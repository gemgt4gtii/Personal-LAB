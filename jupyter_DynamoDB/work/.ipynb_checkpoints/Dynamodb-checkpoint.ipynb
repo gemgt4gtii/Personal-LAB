{
 "cells": [
  {
   "cell_type": "code",
   "execution_count": 1,
   "metadata": {
    "scrolled": false
   },
   "outputs": [
    {
     "name": "stdout",
     "output_type": "stream",
     "text": [
      "Requirement already satisfied: boto3 in /opt/conda/lib/python3.6/site-packages (1.9.86)\n",
      "Requirement already satisfied: jmespath<1.0.0,>=0.7.1 in /opt/conda/lib/python3.6/site-packages (from boto3) (0.9.3)\n",
      "Requirement already satisfied: botocore<1.13.0,>=1.12.86 in /opt/conda/lib/python3.6/site-packages (from boto3) (1.12.86)\n",
      "Requirement already satisfied: s3transfer<0.2.0,>=0.1.10 in /opt/conda/lib/python3.6/site-packages (from boto3) (0.1.13)\n",
      "Requirement already satisfied: docutils>=0.10 in /opt/conda/lib/python3.6/site-packages (from botocore<1.13.0,>=1.12.86->boto3) (0.14)\n",
      "Requirement already satisfied: python-dateutil<3.0.0,>=2.1; python_version >= \"2.7\" in /opt/conda/lib/python3.6/site-packages (from botocore<1.13.0,>=1.12.86->boto3) (2.7.5)\n",
      "Requirement already satisfied: urllib3<1.25,>=1.20; python_version >= \"3.4\" in /opt/conda/lib/python3.6/site-packages (from botocore<1.13.0,>=1.12.86->boto3) (1.24.1)\n",
      "Requirement already satisfied: six>=1.5 in /opt/conda/lib/python3.6/site-packages (from python-dateutil<3.0.0,>=2.1; python_version >= \"2.7\"->botocore<1.13.0,>=1.12.86->boto3) (1.12.0)\n"
     ]
    }
   ],
   "source": [
    "!pip install boto3"
   ]
  },
  {
   "cell_type": "code",
   "execution_count": 5,
   "metadata": {},
   "outputs": [
    {
     "data": {
      "text/plain": [
       "{'ResponseMetadata': {'HTTPHeaders': {'content-length': '32',\n",
       "   'content-type': 'application/x-amz-json-1.0',\n",
       "   'server': 'Jetty(8.1.12.v20130726)',\n",
       "   'x-amz-crc32': '2024476575',\n",
       "   'x-amzn-requestid': '5f0a974a-8900-470d-8b28-a4207247c65e'},\n",
       "  'HTTPStatusCode': 200,\n",
       "  'RequestId': '5f0a974a-8900-470d-8b28-a4207247c65e',\n",
       "  'RetryAttempts': 0},\n",
       " 'TableNames': []}"
      ]
     },
     "execution_count": 5,
     "metadata": {},
     "output_type": "execute_result"
    }
   ],
   "source": [
    "#引用套件:boto3\n",
    "import boto3\n",
    "#建立連線\n",
    "db3 = boto3.resource('dynamodb', \n",
    "                     endpoint_url='http://192.168.244.129:8000', \n",
    "                     aws_secret_access_key='ticTacToeSampleApp',\n",
    "                     aws_access_key_id='ticTacToeSampleApp', \n",
    "                     region_name='us-west-2')\n",
    "\n",
    "db3.meta.client.list_tables()\n",
    "#當連線正確時出現\n",
    "# output\n",
    "\n",
    "{'ResponseMetadata': {'HTTPHeaders': {'content-length': '32',\n",
    "   'content-type': 'application/x-amz-json-1.0',\n",
    "   'server': 'Jetty(8.1.12.v20130726)',\n",
    "   'x-amz-crc32': '2024476575',\n",
    "   'x-amzn-requestid': '5f0a974a-8900-470d-8b28-a4207247c65e'},\n",
    "  'HTTPStatusCode': 200,\n",
    "  'RequestId': '5f0a974a-8900-470d-8b28-a4207247c65e',\n",
    "  'RetryAttempts': 0},\n",
    " u'TableNames': []}"
   ]
  },
  {
   "cell_type": "code",
   "execution_count": 6,
   "metadata": {},
   "outputs": [
    {
     "ename": "NameError",
     "evalue": "name 'dynamodb' is not defined",
     "output_type": "error",
     "traceback": [
      "\u001b[0;31m---------------------------------------------------------------------------\u001b[0m",
      "\u001b[0;31mNameError\u001b[0m                                 Traceback (most recent call last)",
      "\u001b[0;32m<ipython-input-6-5b452a2ff953>\u001b[0m in \u001b[0;36m<module>\u001b[0;34m\u001b[0m\n\u001b[1;32m      6\u001b[0m \u001b[0;34m\u001b[0m\u001b[0m\n\u001b[1;32m      7\u001b[0m \u001b[0;31m# Create the DynamoDB table.\u001b[0m\u001b[0;34m\u001b[0m\u001b[0;34m\u001b[0m\u001b[0;34m\u001b[0m\u001b[0m\n\u001b[0;32m----> 8\u001b[0;31m table = dynamodb.create_table(\n\u001b[0m\u001b[1;32m      9\u001b[0m     \u001b[0mTableName\u001b[0m\u001b[0;34m=\u001b[0m\u001b[0;34m'testv1'\u001b[0m\u001b[0;34m,\u001b[0m\u001b[0;34m\u001b[0m\u001b[0;34m\u001b[0m\u001b[0m\n\u001b[1;32m     10\u001b[0m     KeySchema=[\n",
      "\u001b[0;31mNameError\u001b[0m: name 'dynamodb' is not defined"
     ]
    }
   ],
   "source": [
    "import boto3\n",
    "from boto3.dynamodb.conditions import Key\n",
    "\n",
    "\n",
    "db3.meta.client.list_tables()\n",
    "\n",
    "# Create the DynamoDB table.\n",
    "table = dynamodb.create_table(\n",
    "    TableName='testv1',\n",
    "    KeySchema=[\n",
    "        {\n",
    "            'AttributeName': 'username',\n",
    "            'KeyType': 'HASH'\n",
    "        },\n",
    "        {\n",
    "            'AttributeName': 'last_name',\n",
    "            'KeyType': 'RANGE'\n",
    "        }\n",
    "    ],\n",
    "    AttributeDefinitions=[\n",
    "        {\n",
    "            'AttributeName': 'username',\n",
    "            'AttributeType': 'S'\n",
    "        },\n",
    "        {\n",
    "            'AttributeName': 'last_name',\n",
    "            'AttributeType': 'S'\n",
    "        },\n",
    "\n",
    "    ],\n",
    "    ProvisionedThroughput={\n",
    "        'ReadCapacityUnits': 5,\n",
    "        'WriteCapacityUnits': 5\n",
    "    }\n",
    ")\n",
    "\n",
    "# Wait until the table exists.\n",
    "table.meta.client.get_waiter('table_exists').wait(TableName='testv1')\n",
    "\n",
    "# Print out some data about the table.\n",
    "print(table.item_count)"
   ]
  },
  {
   "cell_type": "code",
   "execution_count": 7,
   "metadata": {},
   "outputs": [
    {
     "ename": "NameError",
     "evalue": "name 'dynamodb' is not defined",
     "output_type": "error",
     "traceback": [
      "\u001b[0;31m---------------------------------------------------------------------------\u001b[0m",
      "\u001b[0;31mNameError\u001b[0m                                 Traceback (most recent call last)",
      "\u001b[0;32m<ipython-input-7-be14a275bd56>\u001b[0m in \u001b[0;36m<module>\u001b[0;34m\u001b[0m\n\u001b[0;32m----> 1\u001b[0;31m create_table = dynamodb.create_table(\n\u001b[0m\u001b[1;32m      2\u001b[0m     \u001b[0mTableName\u001b[0m\u001b[0;34m=\u001b[0m\u001b[0;34m'string'\u001b[0m\u001b[0;34m,\u001b[0m\u001b[0;34m\u001b[0m\u001b[0;34m\u001b[0m\u001b[0m\n\u001b[1;32m      3\u001b[0m \u001b[0;34m\u001b[0m\u001b[0m\n\u001b[1;32m      4\u001b[0m     AttributeDefinitions=[\n\u001b[1;32m      5\u001b[0m         {\n",
      "\u001b[0;31mNameError\u001b[0m: name 'dynamodb' is not defined"
     ]
    }
   ],
   "source": [
    "create_table = dynamodb.create_table(\n",
    "    TableName='string',\n",
    "    \n",
    "    AttributeDefinitions=[\n",
    "        {\n",
    "            'AttributeName': 'string',\n",
    "            'AttributeType': 'S'|'N'|'B'\n",
    "        },\n",
    "    ],\n",
    "    \n",
    "    KeySchema=[\n",
    "        {\n",
    "            'AttributeName': 'string',\n",
    "            'KeyType': 'HASH'|'RANGE'\n",
    "        },\n",
    "    ],\n",
    "    LocalSecondaryIndexes=[\n",
    "        {\n",
    "            'IndexName': 'string',\n",
    "            'KeySchema': [\n",
    "                {\n",
    "                    'AttributeName': 'string',\n",
    "                    'KeyType': 'HASH'|'RANGE'\n",
    "                },\n",
    "            ],\n",
    "            'Projection': {\n",
    "                'ProjectionType': 'ALL'|'KEYS_ONLY'|'INCLUDE',\n",
    "                'NonKeyAttributes': [\n",
    "                    'string',\n",
    "                ]\n",
    "            }\n",
    "        },\n",
    "    ],\n",
    "    GlobalSecondaryIndexes=[\n",
    "        {\n",
    "            'IndexName': 'string',\n",
    "            'KeySchema': [\n",
    "                {\n",
    "                    'AttributeName': 'string',\n",
    "                    'KeyType': 'HASH'|'RANGE'\n",
    "                },\n",
    "            ],\n",
    "            'Projection': {\n",
    "                'ProjectionType': 'ALL'|'KEYS_ONLY'|'INCLUDE',\n",
    "                'NonKeyAttributes': [\n",
    "                    'string',\n",
    "                ]\n",
    "            },\n",
    "            'ProvisionedThroughput': {\n",
    "                'ReadCapacityUnits': 123,\n",
    "                'WriteCapacityUnits': 123\n",
    "            }\n",
    "        },\n",
    "    ],\n",
    "    BillingMode='PROVISIONED'|'PAY_PER_REQUEST',\n",
    "    ProvisionedThroughput={\n",
    "        'ReadCapacityUnits': 123,\n",
    "        'WriteCapacityUnits': 123\n",
    "    },\n",
    "    StreamSpecification={\n",
    "        'StreamEnabled': True|False,\n",
    "        'StreamViewType': 'NEW_IMAGE'|'OLD_IMAGE'|'NEW_AND_OLD_IMAGES'|'KEYS_ONLY'\n",
    "    },\n",
    "    SSESpecification={\n",
    "        'Enabled': True|False,\n",
    "        'SSEType': 'AES256'|'KMS',\n",
    "        'KMSMasterKeyId': 'string'\n",
    "    }\n",
    ")"
   ]
  },
  {
   "cell_type": "code",
   "execution_count": 8,
   "metadata": {},
   "outputs": [
    {
     "name": "stdout",
     "output_type": "stream",
     "text": [
      "creating dynamodb resource\n"
     ]
    },
    {
     "ename": "NameError",
     "evalue": "name 'dynamodb' is not defined",
     "output_type": "error",
     "traceback": [
      "\u001b[0;31m---------------------------------------------------------------------------\u001b[0m",
      "\u001b[0;31mNameError\u001b[0m                                 Traceback (most recent call last)",
      "\u001b[0;32m<ipython-input-8-d5a90f6de897>\u001b[0m in \u001b[0;36m<module>\u001b[0;34m\u001b[0m\n\u001b[1;32m      9\u001b[0m     verify=False)\n\u001b[1;32m     10\u001b[0m \u001b[0;34m\u001b[0m\u001b[0m\n\u001b[0;32m---> 11\u001b[0;31m \u001b[0mprint\u001b[0m \u001b[0;34m(\u001b[0m\u001b[0;34m'got resource:'\u001b[0m\u001b[0;34m,\u001b[0m \u001b[0mdynamodb\u001b[0m\u001b[0;34m)\u001b[0m\u001b[0;34m\u001b[0m\u001b[0;34m\u001b[0m\u001b[0m\n\u001b[0m\u001b[1;32m     12\u001b[0m \u001b[0;34m\u001b[0m\u001b[0m\n\u001b[1;32m     13\u001b[0m \u001b[0mprint\u001b[0m\u001b[0;34m(\u001b[0m\u001b[0;34m'adding table'\u001b[0m\u001b[0;34m)\u001b[0m\u001b[0;34m\u001b[0m\u001b[0;34m\u001b[0m\u001b[0m\n",
      "\u001b[0;31mNameError\u001b[0m: name 'dynamodb' is not defined"
     ]
    }
   ],
   "source": [
    "import boto3\n",
    "\n",
    "print('creating dynamodb resource')\n",
    "\n",
    "db3 = boto3.resource('dynamodb',\n",
    "                     endpoint_url='http://192.168.244.129:8000:8000',\n",
    "                     aws_secret_access_key='ticTacToeSampleApp',\n",
    "                     aws_access_key_id='ticTacToeSampleApp', region_name='us-west-2',\n",
    "    verify=False)\n",
    "\n",
    "print ('got resource:', dynamodb)\n",
    "\n",
    "print('adding table')\n",
    "\n",
    "result = dynamodb.create_table(\n",
    "    TableName='foo',\n",
    "        KeySchema=[\n",
    "            {\n",
    "                'AttributeName': 'from_email',\n",
    "                'KeyType': 'HASH'  # Partition key\n",
    "            },\n",
    "            {\n",
    "                'AttributeName': 'raw_id',\n",
    "                'KeyType': 'RANGE'  # Sort key\n",
    "            },\n",
    "        ],\n",
    "        AttributeDefinitions=[\n",
    "            {\n",
    "                'AttributeName': 'from_email',\n",
    "                'AttributeType': 'S'\n",
    "            },\n",
    "            {\n",
    "                'AttributeName': 'raw_id',\n",
    "                'AttributeType': 'N'\n",
    "            },\n",
    "        ],\n",
    "        ProvisionedThroughput={\n",
    "            'ReadCapacityUnits': 10,\n",
    "            'WriteCapacityUnits': 10\n",
    "        }\n",
    "    )\n",
    "\n",
    "print('created table:', result)\n",
    "\n",
    "print('getting table')\n",
    "\n",
    "table = dynamodb.Table('foo')\n",
    "\n",
    "print('got table:', table)"
   ]
  },
  {
   "cell_type": "code",
   "execution_count": null,
   "metadata": {},
   "outputs": [],
   "source": []
  }
 ],
 "metadata": {
  "kernelspec": {
   "display_name": "Python 3",
   "language": "python",
   "name": "python3"
  },
  "language_info": {
   "codemirror_mode": {
    "name": "ipython",
    "version": 3
   },
   "file_extension": ".py",
   "mimetype": "text/x-python",
   "name": "python",
   "nbconvert_exporter": "python",
   "pygments_lexer": "ipython3",
   "version": "3.6.7"
  }
 },
 "nbformat": 4,
 "nbformat_minor": 2
}
