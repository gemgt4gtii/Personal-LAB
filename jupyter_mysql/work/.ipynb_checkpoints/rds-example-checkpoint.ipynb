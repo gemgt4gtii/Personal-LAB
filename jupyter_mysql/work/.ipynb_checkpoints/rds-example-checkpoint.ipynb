{
 "cells": [
  {
   "cell_type": "code",
   "execution_count": 1,
   "metadata": {
    "scrolled": true
   },
   "outputs": [
    {
     "name": "stdout",
     "output_type": "stream",
     "text": [
      "Requirement already satisfied: pymysql in /opt/conda/lib/python3.6/site-packages (0.9.3)\r\n"
     ]
    }
   ],
   "source": [
    "#測試mysql是否已經安裝。\n",
    "!pip install pymysql"
   ]
  },
  {
   "cell_type": "code",
   "execution_count": 3,
   "metadata": {},
   "outputs": [],
   "source": [
    "#引用pymysql\n",
    "import pymysql.cursors\n",
    "\n",
    "# 連結資料庫(輸入在container設定的參數)\n",
    "connection = pymysql.connect(host='cc104.21.local',\n",
    "    port=3306,\n",
    "    user='root',\n",
    "    password='iii',\n",
    "    db='mysql',\n",
    "    charset='utf8mb4',\n",
    "    cursorclass=pymysql.cursors.DictCursor\n",
    ")"
   ]
  },
  {
   "cell_type": "code",
   "execution_count": 9,
   "metadata": {},
   "outputs": [
    {
     "name": "stdout",
     "output_type": "stream",
     "text": [
      "=================================================\n",
      "已連結~~\n",
      "Mysql版本為： 8.0.14\n",
      "=================================================\n",
      "\n",
      "已重新建立test_v1资料库~~\n",
      "=================================================\n",
      "\n",
      "已重新建立haha資料表~~\n",
      "=================================================\n",
      "\n",
      "haha資料表~~已重新加入 5 筆資料\n",
      "=================================================\n",
      "\n",
      "原格式資料輸出：\n",
      " ((1, 'Jeo', 18, 'male'), (2, 'Bob', 23, 'male'), (3, 'Mary', 17, 'female'), (4, 'Rose', 25, 'female'), (5, 'Ken', 25, 'male'))\n",
      "=================================================\n",
      "\n"
     ]
    },
    {
     "ename": "TypeError",
     "evalue": "tuple indices must be integers or slices, not tuple",
     "output_type": "error",
     "traceback": [
      "\u001b[0;31m---------------------------------------------------------------------------\u001b[0m",
      "\u001b[0;31mTypeError\u001b[0m                                 Traceback (most recent call last)",
      "\u001b[0;32m<ipython-input-9-198dc92001c6>\u001b[0m in \u001b[0;36m<module>\u001b[0;34m\u001b[0m\n\u001b[1;32m     59\u001b[0m \u001b[0;31m#逐個輸出\u001b[0m\u001b[0;34m\u001b[0m\u001b[0;34m\u001b[0m\u001b[0;34m\u001b[0m\u001b[0m\n\u001b[1;32m     60\u001b[0m \u001b[0;32mfor\u001b[0m \u001b[0mi\u001b[0m \u001b[0;32min\u001b[0m \u001b[0mdata\u001b[0m \u001b[0;34m:\u001b[0m\u001b[0;34m\u001b[0m\u001b[0;34m\u001b[0m\u001b[0m\n\u001b[0;32m---> 61\u001b[0;31m     \u001b[0mprint\u001b[0m\u001b[0;34m(\u001b[0m\u001b[0mi\u001b[0m\u001b[0;34m[\u001b[0m\u001b[0;36m0\u001b[0m\u001b[0;34m,\u001b[0m\u001b[0;36m3\u001b[0m\u001b[0;34m]\u001b[0m\u001b[0;34m)\u001b[0m\u001b[0;34m\u001b[0m\u001b[0;34m\u001b[0m\u001b[0m\n\u001b[0m\u001b[1;32m     62\u001b[0m \u001b[0mprint\u001b[0m\u001b[0;34m(\u001b[0m\u001b[0;34m\"=================================================\\n\"\u001b[0m\u001b[0;34m)\u001b[0m\u001b[0;34m\u001b[0m\u001b[0;34m\u001b[0m\u001b[0m\n\u001b[1;32m     63\u001b[0m \u001b[0;34m\u001b[0m\u001b[0m\n",
      "\u001b[0;31mTypeError\u001b[0m: tuple indices must be integers or slices, not tuple"
     ]
    }
   ],
   "source": [
    "#引用套件\n",
    "import json\n",
    "import pymysql\n",
    "import pymysql.cursors\n",
    "\n",
    "#連線資料庫\n",
    "conn = pymysql.connect(host='cc104.21.local',\n",
    "                             user='root',\n",
    "                             password='iii',\n",
    "                             charset='utf8mb4')\n",
    " \n",
    "#輸出資料庫版本至畫面上確認\n",
    "print(\"=================================================\\n已連結~~\\nMysql版本為：\",conn.server_version)\n",
    "# 獲取游標\n",
    "cursor = conn.cursor()\n",
    "print(\"=================================================\\n\")\n",
    "# 確認是否有test3資料庫，若有刪除\n",
    "cursor.execute(\"drop database if exists test_v1\")\n",
    "# 確認是否有test3資料庫，建立一個新的test3資料庫\n",
    "cursor.execute(\"create database test_v1 character set 'utf8' collate utf8_general_ci\")\n",
    "print(\"已重新建立test_v1资料库~~\\n=================================================\\n\")\n",
    "\n",
    "# 確認是否有haha資料表，若有刪除\n",
    "#cursor.execute('drop table if exists haha')\n",
    "\n",
    "#用sql建表語句，建立資料表欄位(3欄)\n",
    "sql = '''create table test_v1.haha(\n",
    "    id int not null auto_increment primary key,\n",
    "    name char(8) not null,\n",
    "    age int not null,\n",
    "    gender char(8) not null)'''\n",
    "cursor.execute(sql)\n",
    "print(\"已重新建立haha資料表~~\\n=================================================\\n\")\n",
    "\n",
    "datalist = {\n",
    "    (1,'Jeo',18,'male'),\n",
    "    (2,'Bob',23,'male'),\n",
    "    (3,'Mary',17,'female'),\n",
    "    (4,'Rose',25,'female'),\n",
    "    (5,'Ken',25,'male')\n",
    "}\n",
    "\n",
    "#定義資料庫語句\n",
    "sql = \"insert into test_v1.haha values(%s,%s,%s,%s)\"\n",
    "#executemany()插入多條資料\n",
    "cursor.executemany(sql,datalist)\n",
    "#獲取新增資料自增ID\n",
    "print(\"haha資料表~~已重新加入\",cursor.lastrowid,\"筆資料\\n=================================================\\n\")\n",
    "\n",
    "#提交語句到資料庫\n",
    "conn.commit()\n",
    "#選select haha資料表資料\n",
    "cursor.execute('select * from test_v1.haha')\n",
    "data = cursor.fetchall()\n",
    "#輸出原格式結果到畫面\n",
    "datajson = json.dumps(data)\n",
    "print(\"原格式資料輸出：\\n\",data)\n",
    "print(\"=================================================\\n\")\n",
    "#逐個輸出\n",
    "for i in data : \n",
    "    print(i[0],i[1],i[2],i[3])\n",
    "print(\"=================================================\\n\")\n",
    "\n",
    "#結束連線\n",
    "conn.close()"
   ]
  },
  {
   "cell_type": "code",
   "execution_count": null,
   "metadata": {},
   "outputs": [],
   "source": []
  }
 ],
 "metadata": {
  "kernelspec": {
   "display_name": "Python 3",
   "language": "python",
   "name": "python3"
  },
  "language_info": {
   "codemirror_mode": {
    "name": "ipython",
    "version": 3
   },
   "file_extension": ".py",
   "mimetype": "text/x-python",
   "name": "python",
   "nbconvert_exporter": "python",
   "pygments_lexer": "ipython3",
   "version": "3.6.7"
  }
 },
 "nbformat": 4,
 "nbformat_minor": 2
}
